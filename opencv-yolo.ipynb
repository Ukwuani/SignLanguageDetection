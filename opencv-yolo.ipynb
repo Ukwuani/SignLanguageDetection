{
 "cells": [
  {
   "cell_type": "code",
   "execution_count": 1,
   "metadata": {},
   "outputs": [
    {
     "name": "stderr",
     "output_type": "stream",
     "text": [
      "2024-04-20 01:54:00.085 python[17579:535338] WARNING: AVCaptureDeviceTypeExternal is deprecated for Continuity Cameras. Please use AVCaptureDeviceTypeContinuityCamera and add NSCameraUseContinuityCameraDeviceType to your Info.plist.\n"
     ]
    }
   ],
   "source": [
    "# import torch\n",
    "import cv2\n",
    "import numpy as np\n",
    "from ultralytics import YOLO\n",
    "\n",
    "model = YOLO(\"./yolo.pt\")  \n",
    "# Read the model\n",
    "# open_cv_net = cv2.dnn.readNetFromONNX(\"./yolov8n.onnx\")\n",
    "# 1. Video capture with the zeroth camera\n",
    "vid_cap = cv2.VideoCapture(1)\n",
    "\n",
    "# 2. If the camera does not open, print and exit\n",
    "if not vid_cap.isOpened():\n",
    "    print(\"WARNING: \", \"camera not opening\")\n",
    "    exit()\n",
    "\n",
    "\n",
    "\n",
    "\n",
    "      \n",
    "# cv2.imshow(\"Disp\", img)\n",
    "# cv2.waitKey(0)\n",
    "\n",
    "\n",
    "# get_processed_imgs(\"./bus.jpg\")\n",
    "# model()\n",
    "# cv2.imshow(\"Display\", img)\n",
    "# cv2.waitKey(0)\n"
   ]
  },
  {
   "cell_type": "code",
   "execution_count": 2,
   "metadata": {},
   "outputs": [],
   "source": [
    "def process_img(img):\n",
    "    # img = input_img.astype(np.float32)\n",
    "    results = model(img)\n",
    "    random = np.random.randint\n",
    "    colors = [ (random(0, 255), random(0, 255), random(0, 255)) for i in range(len(results[0].names)) ] \n",
    "    if len(results) > 0:\n",
    "        for result in results:\n",
    "            for box in result.boxes.numpy():\n",
    "                print(box.conf[0])\n",
    "                print(box.data[0])\n",
    "                print(box.data[0])\n",
    "                color = colors[int(box.cls[0])]\n",
    "                print(color)\n",
    "                rect_frame = cv2.rectangle(img,\n",
    "                                        (int(box.data[0][0]),int(box.data[0][1])),\n",
    "                                        (int(box.data[0][2]),int(box.data[0][3])), \n",
    "                                        color=colors[int(box.cls[0])],\n",
    "                                        thickness=3)\n",
    "                cv2.putText(rect_frame,\n",
    "                            \"{cls} {conf}\".format(cls=results[0].names[box.cls[0]], conf=box.conf[0]),\n",
    "                            (int(box.data[0][0]),int(box.data[0][1])),\n",
    "                            fontFace= cv2.FONT_HERSHEY_SIMPLEX,\n",
    "                            fontScale=1, \n",
    "                            color=colors[int(box.cls[0])],\n",
    "                            thickness=2, \n",
    "                            lineType=cv2.LINE_AA)\n",
    "    return img\n",
    "    \n",
    "  "
   ]
  },
  {
   "cell_type": "code",
   "execution_count": 3,
   "metadata": {},
   "outputs": [
    {
     "name": "stdout",
     "output_type": "stream",
     "text": [
      "\n"
     ]
    }
   ],
   "source": [
    "# 3. Run loop to capture frames for modification/processing\n",
    "while True:\n",
    "    # 3a. \n",
    "    ret, frame = vid_cap.read()\n",
    "    if not ret:\n",
    "        print(\"WARNING: \", \"video not reading correctly\")\n",
    "        break\n",
    "    img = process_img(frame)\n",
    "    # color = cv2.cvtColor(frame, cv2.COLOR_BGR2RGB)\n",
    "    cv2.imshow(\"Display\", img)\n",
    "    if cv2.waitKey(1) == ord(\"e\"):\n",
    "        vid_cap.release()\n",
    "        cv2.destroyAllWindows()\n",
    "        exit()\n",
    "    "
   ]
  }
 ],
 "metadata": {
  "kernelspec": {
   "display_name": "base",
   "language": "python",
   "name": "python3"
  },
  "language_info": {
   "codemirror_mode": {
    "name": "ipython",
    "version": 3
   },
   "file_extension": ".py",
   "mimetype": "text/x-python",
   "name": "python",
   "nbconvert_exporter": "python",
   "pygments_lexer": "ipython3",
   "version": "3.11.4"
  },
  "orig_nbformat": 4,
  "vscode": {
   "interpreter": {
    "hash": "b025f48755b4b0a5fa658ad871965c73dc82b678a595b941edc9efb6d6a1ed09"
   }
  }
 },
 "nbformat": 4,
 "nbformat_minor": 2
}
